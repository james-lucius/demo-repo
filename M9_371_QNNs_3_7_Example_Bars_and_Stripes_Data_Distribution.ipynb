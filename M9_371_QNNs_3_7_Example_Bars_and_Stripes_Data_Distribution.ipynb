{
  "nbformat": 4,
  "nbformat_minor": 0,
  "metadata": {
    "colab": {
      "provenance": [],
      "include_colab_link": true
    },
    "kernelspec": {
      "name": "python3",
      "display_name": "Python 3"
    },
    "language_info": {
      "name": "python"
    }
  },
  "cells": [
    {
      "cell_type": "markdown",
      "metadata": {
        "id": "view-in-github",
        "colab_type": "text"
      },
      "source": [
        "<a href=\"https://colab.research.google.com/github/james-lucius/demo-repo/blob/main/M9_371_QNNs_3_7_Example_Bars_and_Stripes_Data_Distribution.ipynb\" target=\"_parent\"><img src=\"https://colab.research.google.com/assets/colab-badge.svg\" alt=\"Open In Colab\"/></a>"
      ]
    },
    {
      "cell_type": "markdown",
      "source": [
        "<img src=\"https://gitlab.com/qworld/qeducation/educational-materials/adequate-qbook1/raw/main/qworld/images/adq_1.png\" align=\"left\" width=450>"
      ],
      "metadata": {
        "id": "8fozsJF9WrTZ"
      }
    },
    {
      "cell_type": "markdown",
      "source": [
        "_prepared by Claudia Zendejas-Morales_"
      ],
      "metadata": {
        "id": "XmdLWP6ZGlGH"
      }
    },
    {
      "cell_type": "markdown",
      "source": [
        "## 3.7 Example: Bars and Stripes Data Distribution\n",
        "\n",
        "Let's look at a complete example using [PennyLane](https://pennylane.ai/).\n",
        "\n",
        "We'll be working with the Bars and Stripes dataset, a simplified version of the one used [here](https://arxiv.org/pdf/2403.07059). The elements in this dataset will be black and white images of $n\\times n$ pixels that display either vertical bars or horizontal stripes.\n",
        "\n",
        "The goal of our QCBM is to learn from the distribution of the Bars and Stripes dataset and be able to generate data from it."
      ],
      "metadata": {
        "id": "D0ki9YzpGpMP"
      }
    },
    {
      "cell_type": "markdown",
      "source": [
        "Setting up the environment:"
      ],
      "metadata": {
        "id": "X6JSoe1KRSgr"
      }
    },
    {
      "cell_type": "code",
      "source": [
        "!pip install pennylane==0.40.0 &> /dev/null   # use \"&> /dev/null\" so that the standard output of the installation is not displayed\n",
        "\n",
        "print(\"Setup completed\")"
      ],
      "metadata": {
        "colab": {
          "base_uri": "https://localhost:8080/"
        },
        "id": "iIzVKqzMRSEu",
        "outputId": "439d895e-a2eb-4214-f27b-46f413993d1d"
      },
      "execution_count": null,
      "outputs": [
        {
          "output_type": "stream",
          "name": "stdout",
          "text": [
            "Setup completed\n"
          ]
        }
      ]
    },
    {
      "cell_type": "markdown",
      "source": [
        "Let's first create a function that generates binary representations of images with bars and stripes of size $n\\times n$:"
      ],
      "metadata": {
        "id": "N1Lrr6CyTu13"
      }
    },
    {
      "cell_type": "code",
      "source": [
        "import numpy as np\n",
        "\n",
        "\n",
        "def get_bars_and_stripes(n):\n",
        "\n",
        "    bitstrings = [list(np.binary_repr(i, n))[::-1] for i in range(2**n)]    # generate the bitstrings that represent the numbers\n",
        "                                                                            # from 0 to 2^n (exclusive) and invert them\n",
        "                                                                            # e.g.: i=3 => '011' => ['1', '1', '0']\n",
        "    bitstrings = np.array(bitstrings, dtype=int)                            # convert to integer type, e.g.: => [1, 1, 0]\n",
        "\n",
        "    bars = bitstrings.copy()                                                # start from a copy of the array\n",
        "    bars = np.repeat(bars, n, 0)                                            # make n copies of each 'bitstring' to generate n x n data for each bar\n",
        "                                                                            # e.g.: [1, 1, 0] => [[1, 1, 0]\n",
        "                                                                            #                     [1, 1, 0]\n",
        "                                                                            #                     [1, 1, 0]]\n",
        "    bars = bars.reshape(2**n, n * n)                                        # generate a single list for each image with a bar (flatten the data)\n",
        "                                                                            # e.g.: => [1, 1, 0, 1, 1, 0, 1, 1, 0]\n",
        "\n",
        "    stripes = bitstrings.copy()                                             # start from a copy of the array\n",
        "    stripes = stripes.reshape(2**n * n, 1)                                  # reshape the data from horizontal to vertical\n",
        "    stripes = np.repeat(stripes, n, 1)                                      # make n copies of each 'bitstring' to generate n x n data for each stripe\n",
        "    stripes = stripes.reshape(2**n, n * n)                                  # generate a single list for each image with a stripe (flatten the data)\n",
        "\n",
        "    return np.vstack((bars[0 : bars.shape[0] - 1], stripes[1 : stripes.shape[0]]))    # return both bars and stripes\n",
        "                                                                                      #    - from the list of bars we remove the last element that\n",
        "                                                                                      #      contains an array with only zeros (black image only)\n",
        "                                                                                      #    - from the list of stripes we remove the first element that\n",
        "                                                                                      #      contains an array with only ones (white image only)"
      ],
      "metadata": {
        "id": "4N17WeJJRawp"
      },
      "execution_count": null,
      "outputs": []
    },
    {
      "cell_type": "markdown",
      "source": [
        "We will generate a dataset with $n=3$, which will imply that each image contains $9$ binary values to represent it, implying the use of $9$ qubits."
      ],
      "metadata": {
        "id": "GuMu8r8DYm2A"
      }
    },
    {
      "cell_type": "code",
      "source": [
        "n = 3\n",
        "\n",
        "size = n**2                         # number of bits per image\n",
        "\n",
        "data = get_bars_and_stripes(n)      # dataset\n",
        "\n",
        "print(data.shape)"
      ],
      "metadata": {
        "colab": {
          "base_uri": "https://localhost:8080/"
        },
        "id": "00fpdtTgT9qx",
        "outputId": "3d73cd14-1386-4ead-b048-1bbe17c5ec64"
      },
      "execution_count": null,
      "outputs": [
        {
          "output_type": "stream",
          "name": "stdout",
          "text": [
            "(14, 9)\n"
          ]
        }
      ]
    },
    {
      "cell_type": "markdown",
      "source": [
        "Let's look at the generated dataset:"
      ],
      "metadata": {
        "id": "qjcruuhOZCBK"
      }
    },
    {
      "cell_type": "code",
      "source": [
        "import matplotlib.pyplot as plt\n",
        "\n",
        "\n",
        "plt.figure(figsize=(4, 4))              # display rows with 4 images\n",
        "j = 1\n",
        "for i in data:                          # show all samples\n",
        "    plt.subplot(4, 4, j)\n",
        "    j += 1\n",
        "    plt.imshow(                         # display data as an image\n",
        "        np.reshape(i, (n, n)),          # reshape the flattened image ​​to be nxn pixels\n",
        "        cmap=\"gray\", vmin=0, vmax=1)    # black and white image\n",
        "    plt.xticks([])\n",
        "    plt.yticks([])"
      ],
      "metadata": {
        "colab": {
          "base_uri": "https://localhost:8080/",
          "height": 345
        },
        "id": "aZcQ6rc9Yv7B",
        "outputId": "cc97cf73-4859-4098-901e-a97ab21eb0d6"
      },
      "execution_count": null,
      "outputs": [
        {
          "output_type": "display_data",
          "data": {
            "text/plain": [
              "<Figure size 400x400 with 14 Axes>"
            ],
            "image/png": "[encoded data removed]"
          },
          "metadata": {}
        }
      ]
    },
    {
      "cell_type": "markdown",
      "source": [
        "We can see that we have all the possibilities for bars and stripes, and since we do not repeat the all-black image nor the all-white image, we end up with $14$ samples in our dataset."
      ],
      "metadata": {
        "id": "XU50rDGmZp0e"
      }
    },
    {
      "cell_type": "markdown",
      "source": [
        "Let's see what the binary representation of a sample is like, let's take the second one as an example:"
      ],
      "metadata": {
        "id": "HtM4f40sZ8y_"
      }
    },
    {
      "cell_type": "code",
      "source": [
        "sample = data[1].reshape(n, n)                    # reshape the flattened image ​​to be nxn pixels\n",
        "\n",
        "plt.figure(figsize=(2, 2))\n",
        "plt.imshow(sample, cmap=\"gray\", vmin=0, vmax=1)   # display data as an image\n",
        "plt.grid(color=\"gray\", linewidth=2)\n",
        "plt.xticks([])\n",
        "plt.yticks([])\n",
        "\n",
        "# display the binary value for each color (black or white)\n",
        "for i in range(n):\n",
        "    for j in range(n):\n",
        "        text = plt.text(i, j, sample[j][i],\n",
        "                        ha=\"center\", va=\"center\",\n",
        "                        color=\"gray\", fontsize=12)\n",
        "\n",
        "# generate a string with the binary representation of the sample\n",
        "print(f\"\\nSample bitstring: {''.join(np.array(sample.flatten(), dtype='str'))}\")"
      ],
      "metadata": {
        "colab": {
          "base_uri": "https://localhost:8080/",
          "height": 227
        },
        "id": "-sP6t05MZQH0",
        "outputId": "c607ada1-ec0a-4c4e-9850-91cdbd32d042"
      },
      "execution_count": null,
      "outputs": [
        {
          "output_type": "stream",
          "name": "stdout",
          "text": [
            "\n",
            "Sample bitstring: 100100100\n"
          ]
        },
        {
          "output_type": "display_data",
          "data": {
            "text/plain": [
              "<Figure size 200x200 with 1 Axes>"
            ],
            "image/png": "[encoded data removed]"
          },
          "metadata": {}
        }
      ]
    },
    {
      "cell_type": "markdown",
      "source": [
        "Next we compute the integers represented by the valid configurations. We will use them later to evaluate the performance of the QCBM."
      ],
      "metadata": {
        "id": "ZMBOyK0zmvgH"
      }
    },
    {
      "cell_type": "code",
      "source": [
        "bitstrings = []\n",
        "nums = []\n",
        "\n",
        "for d in data:\n",
        "  bitstrings += [\"\".join(str(int(i)) for i in d)]\n",
        "  nums += [int(bitstrings[-1], 2)]                  # decimal representation of the bitstrings\n",
        "\n",
        "print(nums)                                         # 14 numbers, one for each sample"
      ],
      "metadata": {
        "colab": {
          "base_uri": "https://localhost:8080/"
        },
        "id": "6oz1fm-nm1Bd",
        "outputId": "4caa2c98-a86e-47c9-c3d6-322aab9f3d31"
      },
      "execution_count": null,
      "outputs": [
        {
          "output_type": "stream",
          "name": "stdout",
          "text": [
            "[0, 292, 146, 438, 73, 365, 219, 448, 56, 504, 7, 455, 63, 511]\n"
          ]
        }
      ]
    },
    {
      "cell_type": "markdown",
      "source": [
        "Let's take the dataset generated to calculate the target probability distribution $\\pi(x)$ and visualize it.\n",
        "\n",
        "We will notice that it is a uniform distribution, and that only the probabilities of the valid configurations (those contained in the dataset) are different from zero."
      ],
      "metadata": {
        "id": "Lu6-dsVwn6dC"
      }
    },
    {
      "cell_type": "code",
      "source": [
        "probs = np.zeros(2**size)                                           # probability distribution - array of size 2^{n^2}\n",
        "probs[nums] = 1 / len(data)                                         # same probability for each element of the dataset\n",
        "\n",
        "plt.figure(figsize=(10, 4))\n",
        "plt.bar(np.arange(2**size), probs, width=2.0, label=r\"$\\pi(x)$\")\n",
        "plt.xticks(nums, bitstrings, rotation=80)\n",
        "\n",
        "plt.xlabel(\"Samples\")\n",
        "plt.ylabel(\"Prob. Distribution\")\n",
        "plt.legend(loc=\"upper right\")\n",
        "plt.subplots_adjust(bottom=0.3)\n",
        "plt.show()"
      ],
      "metadata": {
        "colab": {
          "base_uri": "https://localhost:8080/",
          "height": 379
        },
        "id": "VYNXpBC-n-EB",
        "outputId": "c0b3e9aa-0cd6-40d6-a159-84bd9a8dbf05"
      },
      "execution_count": null,
      "outputs": [
        {
          "output_type": "display_data",
          "data": {
            "text/plain": [
              "<Figure size 1000x400 with 1 Axes>"
            ],
            "image/png": "[encoded data removed]"
          },
          "metadata": {}
        }
      ]
    },
    {
      "cell_type": "markdown",
      "source": [
        "$$$$\n",
        "Now let's prepare what is needed to use a Quantum Circuit Born Machine.\n",
        "$$$$"
      ],
      "metadata": {
        "id": "DnezGLi1ovOA"
      }
    },
    {
      "cell_type": "markdown",
      "source": [
        "To train the QCBM, we will use the next maximum mean discrepancy (MMD) as the loss function (as we saw in section 3.3.1 with some small variations, in this example we are going to take the squared MMD):\n",
        "\n",
        "$$\n",
        "L(\\boldsymbol{\\theta}) = \\left | \\sum_x p_\\theta(x)\\phi(x) - \\sum_x\\pi(x) \\phi(x)\\right|^2\n",
        "$$\n",
        "\n",
        "where $\\phi(x)$ maps $x$ to a larger feature space. Using the kernel:\n",
        "\n",
        "$$K(x,y)=\\phi(x)^T\\phi(y)$$\n",
        "\n",
        "allows us to work in a lower-dimensional space. We use the Radial basis function ([RBF](https://en.wikipedia.org/wiki/Radial_basis_function)) kernel for this purpose, which is defined as:\n",
        "\n",
        "$$\n",
        "K(x, y) = \\frac{1}{c} \\sum_{i=1}^c \\exp \\left(\\frac{|x - y|^2}{2\\sigma_i^2} \\right)\n",
        "$$\n",
        "\n",
        "where $\\sigma_i$ is the bandwidth parameter controlling the Gaussian kernel's width. $L$ approaches to zero if and only if $p_\\theta$ approaches $\\pi$.\n",
        "\n",
        "The we can write the loss function in terms of $K(x,y)$ as follows:\n",
        "\n",
        "$$\n",
        "L(\\boldsymbol{\\theta})=\\underset{x\\sim p_\\theta, y \\sim p_\\theta}{\\mathbb{E}} \\left[ K(x, y) \\right] - 2 \\; \\underset{x \\sim p_\\theta, y \\sim \\pi}{\\mathbb{E}} \\left[ K(x, y) \\right] + \\underset{x \\sim \\pi, y \\sim \\pi}{\\mathbb{E}} \\left[ K(x, y) \\right]\n",
        "$$\n",
        "\n",
        "$$$$"
      ],
      "metadata": {
        "id": "51UYTgZxckot"
      }
    },
    {
      "cell_type": "markdown",
      "source": [
        "Using this, let's look at the code for the MMD loss function by creating a class, which will allow us to store the kernel instead of calculating it each time the expected value is needed."
      ],
      "metadata": {
        "id": "89Zfdj-0eVle"
      }
    },
    {
      "cell_type": "code",
      "source": [
        "import jax\n",
        "import jax.numpy as jnp\n",
        "\n",
        "jax.config.update(\"jax_enable_x64\", True)     # added to silence some warnings\n",
        "\n",
        "\n",
        "class MMD:\n",
        "\n",
        "    def __init__(self, sigmas, space):\n",
        "        gammas = 1 / (2 * (sigmas**2))\n",
        "        sq_dists = jnp.abs(space[:, None] - space[None, :]) ** 2\n",
        "        self.K = sum(jnp.exp(-gamma * sq_dists) for gamma in gammas) / len(sigmas)\n",
        "        self.sigmas = sigmas\n",
        "\n",
        "    def k_expval(self, px, py):\n",
        "        return px @ self.K @ py               # kernel expectation value\n",
        "\n",
        "    def __call__(self, px, py):\n",
        "        pxy = px - py\n",
        "        return self.k_expval(pxy, pxy)"
      ],
      "metadata": {
        "id": "xevHHj4BasMu"
      },
      "execution_count": null,
      "outputs": []
    },
    {
      "cell_type": "markdown",
      "source": [
        "As you may have noticed, we're using [JAX](https://docs.jax.dev/), a powerful scientific computing library that provides many useful transformations for QML and can be [used directly with PennyLane](https://pennylane.ai/qml/demos/tutorial_jax_transformations).\n",
        "\n",
        "Note that JAX has its own version of NumPy, and to distinguish it, we import it as `jnp`."
      ],
      "metadata": {
        "id": "vnbFjQoMiJn_"
      }
    },
    {
      "cell_type": "markdown",
      "source": [
        "Now let's make a class for the logic of QCBM, it will contain a quantum circuit and the loss function to minimize."
      ],
      "metadata": {
        "id": "DbEwr8UgjAzh"
      }
    },
    {
      "cell_type": "code",
      "source": [
        "from functools import partial\n",
        "\n",
        "\n",
        "class QCBM:\n",
        "\n",
        "    def __init__(self, circ, mmd, py):\n",
        "        self.circ = circ\n",
        "        self.mmd = mmd\n",
        "        self.py = py                        # target distribution π(x)\n",
        "\n",
        "    @partial(jax.jit, static_argnums=0)\n",
        "    def mmd_loss(self, params):\n",
        "        px = self.circ(params)\n",
        "        return self.mmd(px, self.py), px"
      ],
      "metadata": {
        "id": "euOC6pCQjBIW"
      },
      "execution_count": null,
      "outputs": []
    },
    {
      "cell_type": "markdown",
      "source": [
        "We use `jax.jit` because it allows us to compile and optimize simulations for our quantum circuit. With this transformation ([just-in-time compilation](https://docs.jax.dev/en/latest/_autosummary/jax.jit.html)), JAX compiles its execution to [XLA](https://openxla.org/xla).\n",
        "\n",
        "The `functools.partial` annotation returns a new partial object that, when called, will behave as specified in the first argument, in this case like `jax.jit`. The [partial()](https://docs.python.org/es/3.9/library/functools.html#functools.partial) method is used to apply partial functions that freeze a portion of a function's arguments, resulting in a new object with a simplified signature. For more details, visit the links.\n",
        "\n",
        "$$$$"
      ],
      "metadata": {
        "id": "44dMBNf2mIbq"
      }
    },
    {
      "cell_type": "markdown",
      "source": [
        "Now let's write a parameterized quantum circuit, which we are going to train."
      ],
      "metadata": {
        "id": "MRXhbRhXo9Nr"
      }
    },
    {
      "cell_type": "code",
      "source": [
        "import pennylane as qml\n",
        "\n",
        "np.random.seed(42)\n",
        "\n",
        "\n",
        "n_qubits = size                                               # was defined as 2^n, where n comes from the size of the image: n x n\n",
        "\n",
        "dev = qml.device(\"default.qubit\", wires=n_qubits)\n",
        "\n",
        "\n",
        "n_layers = 6                                                  # layers for the variational form\n",
        "\n",
        "@qml.qnode(dev)\n",
        "def circuit(weights):\n",
        "\n",
        "    qml.StronglyEntanglingLayers(weights=weights, ranges=[1] * n_layers, wires=range(n_qubits))\n",
        "\n",
        "    return qml.probs()                                        # we return the probabilities\n",
        "\n",
        "\n",
        "jit_circuit = jax.jit(circuit)                                # compile the circuit with JAX"
      ],
      "metadata": {
        "id": "pXuJMiKRmhxy"
      },
      "execution_count": null,
      "outputs": []
    },
    {
      "cell_type": "markdown",
      "source": [
        "Let's create objects from our `MMD` and `QCBM` classes. For the oppressor, we'll use Adam from the [Optax](https://optax.readthedocs.io/en/latest/) package (a gradient processing and optimization library for JAX)."
      ],
      "metadata": {
        "id": "cnbnp3rw-vUx"
      }
    },
    {
      "cell_type": "code",
      "source": [
        "import optax\n",
        "\n",
        "\n",
        "bandwidth = jnp.array([0.25, 0.5, 1])                       # represented by 'sigma' in the equations\n",
        "\n",
        "space = jnp.arange(2**n_qubits)                             # size of the space we are working with (number of possible quantum states)\n",
        "                                                            # same length as array 'probs'\n",
        "\n",
        "\n",
        "mmd = MMD(bandwidth, space)                                 # the loss function\n",
        "\n",
        "qcbm = QCBM(jit_circuit, mmd, probs)                        # our Quantum Circuit Born Machine\n",
        "\n",
        "\n",
        "\n",
        "wshape = qml.StronglyEntanglingLayers.shape(                # define the weights' shape that the StronglyEntanglingLayers variational form expects\n",
        "    n_layers=n_layers,\n",
        "    n_wires=n_qubits)\n",
        "\n",
        "weights = np.random.random(size=wshape)                     # initial values ​​for the trainable parameters (random)\n",
        "\n",
        "opt = optax.adam(learning_rate=0.1)                         # Adam optimizer\n",
        "\n",
        "opt_state = opt.init(weights)                               # set initial weights to the optimizer"
      ],
      "metadata": {
        "id": "og3vNcxLpybK"
      },
      "execution_count": null,
      "outputs": []
    },
    {
      "cell_type": "markdown",
      "source": [
        "Let's check that the expected value calculated using the circuit (first expression of $L$), is equal to that calculated with the second expression of $L$."
      ],
      "metadata": {
        "id": "ujGIgvyTEzjC"
      }
    },
    {
      "cell_type": "code",
      "source": [
        "loss_1, px = qcbm.mmd_loss(weights)       # squared MMD\n",
        "\n",
        "loss_2 = mmd.k_expval(px, px) - 2 * mmd.k_expval(px, probs) + mmd.k_expval(probs, probs)\n",
        "\n",
        "print(loss_1)\n",
        "print(loss_2)"
      ],
      "metadata": {
        "colab": {
          "base_uri": "https://localhost:8080/"
        },
        "id": "QxA6GHR9_9u2",
        "outputId": "6f7f1ae6-2c04-4f27-833e-1852cd3b1e13"
      },
      "execution_count": null,
      "outputs": [
        {
          "output_type": "stream",
          "name": "stdout",
          "text": [
            "0.06842073068350442\n",
            "0.06842073068350445\n"
          ]
        }
      ]
    },
    {
      "cell_type": "markdown",
      "source": [
        "Let's define a function for the calculations at each training step. In `update_step` we find several things:"
      ],
      "metadata": {
        "id": "NW05plbcGkPg"
      }
    },
    {
      "cell_type": "code",
      "source": [
        "@jax.jit\n",
        "def update_step(params, opt_state):\n",
        "\n",
        "    (loss_val, qcbm_probs), grads = jax.value_and_grad(qcbm.mmd_loss, has_aux=True)(params)   # calculate the squared MMD and its gradients\n",
        "\n",
        "    updates, opt_state = opt.update(grads, opt_state)                                         # update the optimizer\n",
        "\n",
        "    params = optax.apply_updates(params, updates)                                             # update the trainable parameters (weights)\n",
        "\n",
        "    kl_div = -jnp.sum(qcbm.py * jnp.nan_to_num(jnp.log(qcbm_probs / qcbm.py)))                # calculate the KL divergence\n",
        "\n",
        "    return params, opt_state, loss_val, kl_div                                                # return the new values"
      ],
      "metadata": {
        "id": "qCYiOKHHFGV8"
      },
      "execution_count": null,
      "outputs": []
    },
    {
      "cell_type": "markdown",
      "source": [
        "The [Kullback–Leibler (KL) divergence](https://en.wikipedia.org/wiki/Kullback%E2%80%93Leibler_divergence) is a measure of how far the predicted distribution $p_\\theta(x)$ is from the target distribution $\\pi(x)$."
      ],
      "metadata": {
        "id": "OMVxgEp-HNFh"
      }
    },
    {
      "cell_type": "markdown",
      "source": [
        "Now let's perform the training by running our `update_step` for several iterations (epochs)."
      ],
      "metadata": {
        "id": "ooE9iYmTHXn3"
      }
    },
    {
      "cell_type": "code",
      "source": [
        "history = []                        # to store the history\n",
        "divs = []                           # to store the divergences\n",
        "\n",
        "n_iterations = 100                  # iterations (epochs)\n",
        "\n",
        "\n",
        "\n",
        "for i in range(n_iterations):\n",
        "\n",
        "    weights, opt_state, loss_val, kl_div = update_step(weights, opt_state)      # run an update step\n",
        "\n",
        "    if i % 10 == 0:\n",
        "        print(f\"Step: {i} Loss: {loss_val:.4f} KL-div: {kl_div:.4f}\")           # show the progress\n",
        "\n",
        "    history.append(loss_val)\n",
        "\n",
        "    divs.append(kl_div)"
      ],
      "metadata": {
        "colab": {
          "base_uri": "https://localhost:8080/"
        },
        "id": "qcfyDcaxHLVf",
        "outputId": "9b6f5923-2268-4fef-933d-dae0e893ff4e"
      },
      "execution_count": null,
      "outputs": [
        {
          "output_type": "stream",
          "name": "stdout",
          "text": [
            "Step: 0 Loss: 0.0684 KL-div: 4.0735\n",
            "Step: 10 Loss: 0.0439 KL-div: 1.7351\n",
            "Step: 20 Loss: 0.0367 KL-div: 1.3296\n",
            "Step: 30 Loss: 0.0292 KL-div: 1.0619\n",
            "Step: 40 Loss: 0.0116 KL-div: 0.4977\n",
            "Step: 50 Loss: 0.0039 KL-div: 0.2462\n",
            "Step: 60 Loss: 0.0014 KL-div: 0.1348\n",
            "Step: 70 Loss: 0.0009 KL-div: 0.1077\n",
            "Step: 80 Loss: 0.0006 KL-div: 0.0852\n",
            "Step: 90 Loss: 0.0004 KL-div: 0.0755\n"
          ]
        }
      ]
    },
    {
      "cell_type": "markdown",
      "source": [
        "Now let's visualize the training results:"
      ],
      "metadata": {
        "id": "RnIiNc8HIv-D"
      }
    },
    {
      "cell_type": "code",
      "source": [
        "fig, ax = plt.subplots(1, 2, figsize=(10, 4))\n",
        "\n",
        "ax[0].plot(history)\n",
        "ax[0].set_xlabel(\"Iteration\")\n",
        "ax[0].set_ylabel(\"MMD Loss\")\n",
        "\n",
        "ax[1].plot(divs, color=\"green\")\n",
        "ax[1].set_xlabel(\"Iteration\")\n",
        "ax[1].set_ylabel(\"KL Divergence\")\n",
        "plt.show()"
      ],
      "metadata": {
        "colab": {
          "base_uri": "https://localhost:8080/",
          "height": 388
        },
        "id": "hwuDQK7aIj6y",
        "outputId": "515e59db-fa29-48fa-a1a5-3b6947b4edbf"
      },
      "execution_count": null,
      "outputs": [
        {
          "output_type": "display_data",
          "data": {
            "text/plain": [
              "<Figure size 1000x400 with 2 Axes>"
            ],
            "image/png": "[encoded data removed]"
          },
          "metadata": {}
        }
      ]
    },
    {
      "cell_type": "markdown",
      "source": [
        "Now let's visualize the target probability distribution $\\pi(x)$, along with the predictions from our QCBM (predicted distribution $p_\\theta(x)$):"
      ],
      "metadata": {
        "id": "CG3hB3y_KCI4"
      }
    },
    {
      "cell_type": "code",
      "source": [
        "plt.figure(figsize=(10, 4))\n",
        "\n",
        "qcbm_probs = np.array(qcbm.circ(weights))\n",
        "\n",
        "plt.bar(np.arange(2**size), probs,\n",
        "        width=2.0, label=r\"$\\pi(x)$\", alpha=0.4, color=\"tab:blue\")\n",
        "\n",
        "plt.bar(np.arange(2**size), qcbm_probs,\n",
        "        width=2.0, label=r\"$p_\\theta(x)$\", alpha=0.9, color=\"tab:green\")\n",
        "\n",
        "\n",
        "plt.xlabel(\"Samples\")\n",
        "plt.ylabel(\"Prob. Distribution\")\n",
        "\n",
        "plt.xticks(nums, bitstrings, rotation=80)\n",
        "plt.legend(loc=\"upper right\")\n",
        "plt.subplots_adjust(bottom=0.3)\n",
        "plt.show()"
      ],
      "metadata": {
        "colab": {
          "base_uri": "https://localhost:8080/",
          "height": 379
        },
        "id": "rxI0L5zCI0w0",
        "outputId": "b50434f9-4d87-4577-9847-e206b1591748"
      },
      "execution_count": null,
      "outputs": [
        {
          "output_type": "display_data",
          "data": {
            "text/plain": [
              "<Figure size 1000x400 with 1 Axes>"
            ],
            "image/png": "[encoded data removed]"
          },
          "metadata": {}
        }
      ]
    },
    {
      "cell_type": "markdown",
      "source": [
        "We can observe that the predictions are a good approximation of the original distribution.\n",
        "\n",
        "$$$$"
      ],
      "metadata": {
        "id": "-lEC-IPULDRg"
      }
    },
    {
      "cell_type": "markdown",
      "source": [
        "To test the training results, we'll take the resulting weights (values remaining at the end of the iterations) and send them to a new quantum circuit (with the same variational form and a different type of measurement), so that the sample it generates falls within the bars and stripes distribution.\n",
        "\n",
        "We'll calculate $\\chi=P(x\\text{ is a bar or a stripe})$, which is a measure of the quality of the results generated by this second circuit that uses the already trained parameters."
      ],
      "metadata": {
        "id": "o9tEjNZ3MTMj"
      }
    },
    {
      "cell_type": "code",
      "source": [
        "def circuit_test(weights):\n",
        "    qml.StronglyEntanglingLayers(weights=weights, ranges=[1] * n_layers, wires=range(n_qubits))\n",
        "    return qml.sample()\n",
        "\n",
        "\n",
        "for N in [2000, 20000]:                                             # try these shots values\n",
        "\n",
        "    dev = qml.device(\"default.qubit\", wires=n_qubits, shots=N)\n",
        "    circ = qml.QNode(circuit_test, device=dev)\n",
        "    preds = circ(weights)                                           # test circuit predictions, using the already trained weights\n",
        "\n",
        "    mask = np.any(np.all(preds[:, None] == data, axis=2), axis=1)   # check for row-wise equality\n",
        "\n",
        "    chi = np.sum(mask) / N                                          # calculate the quality of the result\n",
        "\n",
        "    print(f\"χ for N = {N}: {chi:.4f}\")\n"
      ],
      "metadata": {
        "colab": {
          "base_uri": "https://localhost:8080/"
        },
        "id": "WLoQvZRrK1x9",
        "outputId": "b0c685ad-4810-4989-fa75-d72d315b4d4e"
      },
      "execution_count": null,
      "outputs": [
        {
          "output_type": "stream",
          "name": "stdout",
          "text": [
            "χ for N = 2000: 0.9310\n",
            "χ for N = 20000: 0.9305\n"
          ]
        }
      ]
    },
    {
      "cell_type": "markdown",
      "source": [
        "Let's look at some of the previously generated samples. Those that represent invalid images (not bars or stripes) will be marked with a red outline."
      ],
      "metadata": {
        "id": "zEx8S-7hOKv9"
      }
    },
    {
      "cell_type": "code",
      "source": [
        "plt.figure(figsize=(6, 6))\n",
        "\n",
        "j = 1\n",
        "for i, m in zip(preds[:64], mask[:64]):\n",
        "\n",
        "    ax = plt.subplot(8, 8, j)\n",
        "    j += 1\n",
        "    plt.imshow(np.reshape(i, (n, n)), cmap=\"gray\", vmin=0, vmax=1)\n",
        "\n",
        "    if ~m:\n",
        "        plt.setp(ax.spines.values(), color=\"red\", linewidth=1.5)\n",
        "\n",
        "    plt.xticks([])\n",
        "    plt.yticks([])"
      ],
      "metadata": {
        "colab": {
          "base_uri": "https://localhost:8080/",
          "height": 499
        },
        "id": "2HJ3aoVnNb0m",
        "outputId": "a081be36-7656-4275-da8a-e9e7a1c7d317"
      },
      "execution_count": null,
      "outputs": [
        {
          "output_type": "display_data",
          "data": {
            "text/plain": [
              "<Figure size 600x600 with 64 Axes>"
            ],
            "image/png": "[encoded data removed]"
          },
          "metadata": {}
        }
      ]
    }
  ]
}